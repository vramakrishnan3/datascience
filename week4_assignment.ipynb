{
  "metadata": {
    "language_info": {
      "codemirror_mode": {
        "name": "python",
        "version": 3
      },
      "file_extension": ".py",
      "mimetype": "text/x-python",
      "name": "python",
      "nbconvert_exporter": "python",
      "pygments_lexer": "ipython3",
      "version": "3.8"
    },
    "kernelspec": {
      "name": "python",
      "display_name": "Pyolite",
      "language": "python"
    }
  },
  "nbformat_minor": 4,
  "nbformat": 4,
  "cells": [
    {
      "cell_type": "markdown",
      "source": "# My Jupyter Notebook on IBM Watson Studio",
      "metadata": {
        "tags": []
      }
    },
    {
      "cell_type": "markdown",
      "source": "**Vikram Ramakrishnan**\n\nSoftware Engineer",
      "metadata": {}
    },
    {
      "cell_type": "markdown",
      "source": "*I wish to apply data science to be able to generate additional revenue or reduce costs for my team / firm*",
      "metadata": {}
    },
    {
      "cell_type": "markdown",
      "source": "### The code below should print 1+1=2",
      "metadata": {}
    },
    {
      "cell_type": "code",
      "source": "print(\"1+1=\" + '2')",
      "metadata": {
        "trusted": true
      },
      "execution_count": 5,
      "outputs": [
        {
          "name": "stdout",
          "text": "1+1=2\n",
          "output_type": "stream"
        }
      ]
    },
    {
      "cell_type": "markdown",
      "source": "|Col1|Col2|\n|----|----|\n|Data1|Data2|\n\nUnordered list\n  * Item1\n  * Item2\n\nNumbered List\n  1. Item1\n  2. Item2",
      "metadata": {
        "tags": []
      }
    }
  ]
}